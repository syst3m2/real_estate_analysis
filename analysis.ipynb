{
 "cells": [
  {
   "cell_type": "code",
   "execution_count": null,
   "metadata": {},
   "outputs": [],
   "source": [
    "import undetected_chromedriver.v2 as uc\n",
    "driver = uc.Chrome()\n",
    "driver.get('https://nowsecure.nl')\n",
    "print(driver.page_source)"
   ]
  },
  {
   "cell_type": "markdown",
   "metadata": {},
   "source": [
    "c:\\Users\\ntech\\Anaconda3\\envs\\re_analysis\\python.exe"
   ]
  }
 ],
 "metadata": {
  "kernelspec": {
   "display_name": "Python 3.9.13 ('re_analysis')",
   "language": "python",
   "name": "python3"
  },
  "language_info": {
   "name": "python",
   "version": "3.9.13"
  },
  "orig_nbformat": 4,
  "vscode": {
   "interpreter": {
    "hash": "1a0467245a5c9e6df9f0df81dfd544c352dc4bc1b1f3241c30a3ea13744d843a"
   }
  }
 },
 "nbformat": 4,
 "nbformat_minor": 2
}
