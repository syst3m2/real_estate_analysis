{
 "cells": [
  {
   "cell_type": "code",
   "execution_count": 16,
   "metadata": {},
   "outputs": [
    {
     "name": "stdout",
     "output_type": "stream",
     "text": [
      "<div class=\"HomeCardContainer selectedHomeCard defaultSplitMapListView isRentals\" data-rf-test-id=\"react-data-photo-row-0\" id=\"MapHomeCard_0\"><div class=\"MapHomeCardReact HomeCard\" data-rf-paint-id=\"map\" data-rf-test-name=\"mapHomeCard\"><div class=\"v2 interactive\" tabindex=\"0\"><div class=\"homecardv2\" data-rf-test-name=\"basicNode-homeCard\"><div class=\"cover-all\"><div class=\"PhotoSlider photoContainer\"><div class=\"scrollable\" style=\"transform:translateX(0px)\"><div class=\"slider-item invisible\" data-rf-test-id=\"slider-item--1\" style=\"transform:translateX(0px)\"><div class=\"remarks-container\" role=\"button\"><div class=\"lazyload-placeholder\" style=\"height:100%\"></div><div class=\"remarks withTitle\"><p>92082 House for Rent:</p><p>Short term rental rates start at $599 per night with a 4 day min. Private estate with breathtaking view's. Includes landscape service &amp; all the organic orange's you can eat. Welcome to p</p></div></div></div><a class=\"slider-item\" data-rf-test-id=\"slider-item-0\" data-rf-test-name=\"basic-card-photo\" href=\"/CA/Valley-Center/30415-Bella-Linda-Dr-92082/home/3144951\" style=\"transform:translateX(0px)\" target=\"_blank\"><div class=\"delayRenderedplaceHolderContainer\" style=\"height:100%;width:100%;min-height:100%\"><img alt=\"Placeholder\" class=\"homecard-image placeholder\" data-src=\"https://ssl.cdn-redfin.com/photo/rent/624fe290-3618-4fd6-9bb7-343147962a69/islphoto/genIsl.0_3.jpg\" height=\"100%\" style=\"opacity:0;display:inherit\" width=\"100%\"/></div></a><div class=\"slider-item invisible\" data-rf-test-id=\"slider-item-1\" style=\"transform:translateX(0px)\"><div class=\"delayRenderedplaceHolderContainer\" style=\"height:100%;width:100%;min-height:100%\"><img alt=\"Placeholder\" class=\"homecard-image placeholder\" data-src=\"https://ssl.cdn-redfin.com/photo/rent/624fe290-3618-4fd6-9bb7-343147962a69/islphoto/genIsl.1_3.jpg\" height=\"100%\" style=\"opacity:0;display:inherit\" width=\"100%\"/></div></div></div></div></div><div aria-label=\"previous button\" class=\"left-nav clickable shouldShow\" data-rf-test-name=\"left-nav\" role=\"button\" tabindex=\"0\"><svg class=\"SvgIcon slide-previous\"><svg viewbox=\"0 0 24 24\"><g fill-rule=\"evenodd\"><path d=\"M16.426 23.134L5.074 11.78a.25.25 0 010-.353L16.426.073a.25.25 0 01.355 0l1.06 1.06a.25.25 0 010 .355L7.724 11.603 17.841 21.72a.25.25 0 010 .355l-1.06 1.06a.25.25 0 01-.355 0\"></path></g></svg></svg></div><div aria-label=\"next button\" class=\"right-nav clickable shouldShow\" data-rf-test-name=\"right-nav\" role=\"button\" tabindex=\"0\"><svg class=\"SvgIcon slide-next\"><svg viewbox=\"0 0 24 24\"><g fill-rule=\"evenodd\"><path d=\"M7.134 23.134l-1.06-1.06a.25.25 0 010-.355L16.19 11.603 6.074 1.488a.25.25 0 010-.355l1.06-1.06a.25.25 0 01.354 0L18.84 11.427a.25.25 0 010 .353L7.488 23.134a.25.25 0 01-.354 0\"></path></g></svg></svg></div><div class=\"Pill Pill--default padding-vert-smallest padding-horiz-smaller font-size-smaller font-weight-bold font-color-white media-index no-opacity\">1 / 5</div><div class=\"bottomright\"><div class=\"mlsLogoExtension\"></div></div></div><div class=\"bottomV2\"><span class=\"homecardV2Price\" data-rf-test-name=\"homecard-price\"><span>$9,600<!-- -->/mo</span></span><div class=\"favoriteButtonV2 homecard-clickable\"><div aria-checked=\"false\" aria-label=\"favorite button\" class=\"FavoriteExtension favoriteButtonV2 clickable fav-off\" data-rf-test-id=\"favoriteExtension\" role=\"checkbox\"><svg class=\"SvgIcon favorite-actionable clickable favorite-icon\"><svg viewbox=\"0 0 26 23\"><path class=\"favorite-actionable-fill fill\" d=\"M18.38 2c-1.753 0-3.712.756-5.368 2.766C11.356 2.756 9.397 2 7.644 2c-1.286 0-2.46.407-3.322 1.026C2.287 4.487 1.337 7.56 2.508 10.48c1.517 3.783 9.212 9.6 10.36 10.452a.233.233 0 00.287 0c1.158-.856 8.95-6.72 10.36-10.452 1.113-2.943.221-5.993-1.813-7.454C20.84 2.407 19.665 2 18.38 2z\"></path><path class=\"favorite-actionable-outline outline\" d=\"M13.012 4.766l-.771.636.771.937.772-.937zm-8.69-1.74l.584.813zM2.508 10.48l-.928.373zm10.36 10.452l-.596.803zm.287 0l-.594-.804-.006.004zm10.36-10.452l-.935-.353zm-1.813-7.454l.584-.812zM18.38 1c-2.061 0-4.3.898-6.138 3.13l1.543 1.272C15.257 3.615 16.937 3 18.38 3zm-4.595 3.13C11.945 1.899 9.707 1 7.644 1v2c1.444 0 3.124.615 4.597 2.402zM7.644 1c-1.49 0-2.87.47-3.905 1.215l1.167 1.623C5.593 3.344 6.563 3 7.644 3zM3.74 2.214C1.294 3.97.255 7.547 1.58 10.853l1.857-.745C2.42 7.572 3.28 5.006 4.906 3.838zM1.58 10.853c.443 1.104 1.298 2.278 2.273 3.394.988 1.132 2.16 2.27 3.304 3.301a75.12 75.12 0 005.115 4.187l1.193-1.605a73.097 73.097 0 01-4.969-4.068c-1.112-1.002-2.22-2.08-3.137-3.13-.93-1.065-1.607-2.036-1.922-2.824zm10.693 10.883c.44.327 1.037.33 1.482-.004l-1.2-1.6a.763.763 0 01.909-.003zm1.477 0a74.823 74.823 0 005.159-4.207c1.151-1.035 2.326-2.175 3.31-3.305.968-1.113 1.815-2.287 2.232-3.39l-1.871-.707c-.289.763-.945 1.721-1.87 2.784-.91 1.046-2.02 2.125-3.138 3.13a72.868 72.868 0 01-5.011 4.087zm10.7-10.902c1.249-3.3.292-6.855-2.164-8.62L21.119 3.84c1.612 1.157 2.439 3.702 1.461 6.288zm-2.164-8.62C21.25 1.471 19.87 1 18.379 1v2c1.081 0 2.051.344 2.74.839z\"></path></svg></svg></div></div><div class=\"HomeCardShareButton homecard-clickable\"><svg class=\"SvgIcon share-forward-icon clickable share-icon\"><svg viewbox=\"0 0 24 24\"><path class=\"share-forward-icon-fill fill\" d=\"M11.986 15.982c-2.023.035-6.72.353-8.908 2.454-.582.558-.927 1.197-1.045 1.94a.736.736 0 01-.731.61H.755A.753.753 0 010 20.214c.144-3.693 1.336-6.637 3.549-8.76C6.412 8.71 10.18 8.127 11.986 8.01V3.452a.25.25 0 01.403-.197l10.971 8.533a.25.25 0 010 .395l-10.97 8.534a.25.25 0 01-.405-.197v-4.538z\" opacity=\".5\"></path><path class=\"share-forward-icon-outline outline\" d=\"M12.382 13.99c.374 0 .609.01.66.011l.958.04v2.914L20.37 12 14 7.044v2.994L12.96 10c-.044 0-4.833-.146-8.024 2.925-.921.886-1.627 1.962-2.116 3.216 3.072-1.959 7.82-2.15 9.562-2.15M12 15.996c-2.023.035-6.72.353-8.908 2.454-.582.558-.927 1.197-1.045 1.94a.736.736 0 01-.731.61H.769a.753.753 0 01-.754-.772c.144-3.693 1.336-6.637 3.549-8.759C6.426 8.723 10.196 8.14 12 8.024V3.466a.25.25 0 01.404-.197l10.97 8.533a.25.25 0 010 .395l-10.97 8.534a.25.25 0 01-.404-.197v-4.538z\"></path></svg></svg></div><div class=\"HomeStatsV2 font-size-small\"><div class=\"stats\">3 Beds</div><div class=\"stats\">2.5 Baths</div><div class=\"stats\">2,400 Sq. Ft.</div></div><div class=\"homeAddressV2\"><div class=\"addressDisplay font-size-smaller\" data-rf-test-id=\"abp-homeinfo-homeaddress\"><span class=\"collapsedAddress primaryLine\" data-rf-test-id=\"abp-streetLine\">30415 Bella Linda Dr, Valley Center, CA 92082</span></div></div><div><div class=\"PropertyTypeDisplay font-size-smaller padding-top-small\"><svg class=\"SvgIcon house\"><svg viewbox=\"0 0 24 24\"><path clip-rule=\"evenodd\" d=\"M20 14h-1.75a.25.25 0 00-.25.25v1.5c0 .138.112.25.25.25H20v2h-2.75a.25.25 0 00-.25.25v1.5c0 .138.112.25.25.25H20v2h-5v-7.75a.25.25 0 00-.25-.25h-5.5a.25.25 0 00-.25.25V22H4v-2h1.75a.25.25 0 00.25-.25v-1.5a.25.25 0 00-.25-.25H4v-2h2.75a.25.25 0 00.25-.25v-1.5a.25.25 0 00-.25-.25H4V9.837l8-6.545 8 6.545V14zm-9 2h2v6h-2v-6zm7-13h2v4.254l-2-1.637V3zm6 7h-.643L22 8.89V1.25a.25.25 0 00-.25-.25h-5.5a.25.25 0 00-.25.25v2.731L12.158.838a.247.247 0 00-.316 0L.643 10H0v1.75c0 .138.112.25.25.25H2v11.75c0 .138.112.25.25.25h19.5a.25.25 0 00.25-.25V12h1.75a.25.25 0 00.25-.25V10z\" fill-rule=\"evenodd\"></path></svg></svg><span> <!-- -->House</span></div><div class=\"RentalCTAContact\"><button class=\"button Button text unpadded large-phone-cta\" role=\"button\" tabindex=\"0\" type=\"button\"><span>Request a tour</span></button></div></div><script type=\"application/ld+json\">[{\"@context\":\"http://schema.org\",\"name\":\"30415 Bella Linda Dr, Valley Center, CA 92082\",\"url\":\"/CA/Valley-Center/30415-Bella-Linda-Dr-92082/home/3144951\",\"address\":{\"@type\":\"PostalAddress\",\"streetAddress\":\"30415 Bella Linda Dr\",\"addressLocality\":\"Valley Center\",\"addressRegion\":\"CA\",\"postalCode\":\"92082\",\"addressCountry\":1},\"numberOfRooms\":\"3\",\"floorSize\":{\"@type\":\"QuantitativeValue\",\"value\":\"2,400\",\"unitCode\":\"FTK\"},\"@type\":\"SingleFamilyResidence\"},{\"@context\":\"http://schema.org\",\"@type\":\"Product\",\"name\":\"30415 Bella Linda Dr, Valley Center, CA 92082\",\"offers\":{\"@type\":\"Offer\",\"price\":\"9600\",\"priceCurrency\":\"USD\"},\"url\":\"/CA/Valley-Center/30415-Bella-Linda-Dr-92082/home/3144951\"}]</script><a href=\"/CA/Valley-Center/30415-Bella-Linda-Dr-92082/home/3144951\" target=\"_blank\" title=\"30415 Bella Linda Dr, Valley Center, CA 92082\"><div class=\"link-and-anchor bottom-button\">30415 Bella Linda Dr, Valley Center, CA 92082</div></a></div></div></div></div>\n",
      "<div class=\"HomeCardContainer defaultSplitMapListView isRentals\" data-rf-test-id=\"react-data-photo-row-1\" id=\"MapHomeCard_1\"><div class=\"MapHomeCardReact HomeCard\" data-rf-paint-id=\"map\" data-rf-test-name=\"mapHomeCard\"><div class=\"v2 interactive\" tabindex=\"0\"><div class=\"homecardv2\" data-rf-test-name=\"basicNode-homeCard\"><div class=\"cover-all\"><div class=\"PhotoSlider photoContainer\"><div class=\"scrollable\" style=\"transform:translateX(0px)\"><div class=\"slider-item invisible\" data-rf-test-id=\"slider-item--1\" style=\"transform:translateX(0px)\"><div class=\"remarks-container\" role=\"button\"><div class=\"lazyload-placeholder\" style=\"height:100%\"></div><div class=\"remarks withTitle\"><p>92082 House for Rent:</p><p>This is a trailer/mobile home type with two bedrooms and 1 and 1/2 baths with its own kitchen set in a nice rural area of Valley Center.   Also, it has two parking spaces assigned for more privacy.</p></div></div></div><a class=\"slider-item\" data-rf-test-id=\"slider-item-0\" data-rf-test-name=\"basic-card-photo\" href=\"/CA/Valley-Center/28560-Lilac-Rd-92082/home/3535464\" style=\"transform:translateX(0px)\" target=\"_blank\"><div class=\"delayRenderedplaceHolderContainer\" style=\"height:100%;width:100%;min-height:100%\"><img alt=\"Placeholder\" class=\"homecard-image placeholder\" data-src=\"https://ssl.cdn-redfin.com/photo/rent/d7aabab6-dcb2-4daf-916d-892d6f441f12/islphoto/genIsl.0_1.jpg\" height=\"100%\" style=\"opacity:0;display:inherit\" width=\"100%\"/></div></a><div class=\"slider-item invisible\" data-rf-test-id=\"slider-item-1\" style=\"transform:translateX(0px)\"><div class=\"delayRenderedplaceHolderContainer\" style=\"height:100%;width:100%;min-height:100%\"><img alt=\"Placeholder\" class=\"homecard-image placeholder\" data-src=\"https://ssl.cdn-redfin.com/photo/rent/d7aabab6-dcb2-4daf-916d-892d6f441f12/islphoto/genIsl.1_1.jpg\" height=\"100%\" style=\"opacity:0;display:inherit\" width=\"100%\"/></div></div></div></div></div><div aria-label=\"previous button\" class=\"left-nav clickable\" data-rf-test-name=\"left-nav\" role=\"button\" tabindex=\"0\"><svg class=\"SvgIcon slide-previous\"><svg viewbox=\"0 0 24 24\"><g fill-rule=\"evenodd\"><path d=\"M16.426 23.134L5.074 11.78a.25.25 0 010-.353L16.426.073a.25.25 0 01.355 0l1.06 1.06a.25.25 0 010 .355L7.724 11.603 17.841 21.72a.25.25 0 010 .355l-1.06 1.06a.25.25 0 01-.355 0\"></path></g></svg></svg></div><div aria-label=\"next button\" class=\"right-nav clickable\" data-rf-test-name=\"right-nav\" role=\"button\" tabindex=\"0\"><svg class=\"SvgIcon slide-next\"><svg viewbox=\"0 0 24 24\"><g fill-rule=\"evenodd\"><path d=\"M7.134 23.134l-1.06-1.06a.25.25 0 010-.355L16.19 11.603 6.074 1.488a.25.25 0 010-.355l1.06-1.06a.25.25 0 01.354 0L18.84 11.427a.25.25 0 010 .353L7.488 23.134a.25.25 0 01-.354 0\"></path></g></svg></svg></div><div class=\"Pill Pill--default padding-vert-smallest padding-horiz-smaller font-size-smaller font-weight-bold font-color-white media-index no-opacity\">1 / 7</div><div class=\"bottomright\"><div class=\"mlsLogoExtension\"></div></div></div><div class=\"bottomV2\"><span class=\"homecardV2Price\" data-rf-test-name=\"homecard-price\"><span>$1,800<!-- -->/mo</span></span><div class=\"favoriteButtonV2 homecard-clickable\"><div aria-checked=\"false\" aria-label=\"favorite button\" class=\"FavoriteExtension favoriteButtonV2 clickable fav-off\" data-rf-test-id=\"favoriteExtension\" role=\"checkbox\"><svg class=\"SvgIcon favorite-actionable clickable favorite-icon\"><svg viewbox=\"0 0 26 23\"><path class=\"favorite-actionable-fill fill\" d=\"M18.38 2c-1.753 0-3.712.756-5.368 2.766C11.356 2.756 9.397 2 7.644 2c-1.286 0-2.46.407-3.322 1.026C2.287 4.487 1.337 7.56 2.508 10.48c1.517 3.783 9.212 9.6 10.36 10.452a.233.233 0 00.287 0c1.158-.856 8.95-6.72 10.36-10.452 1.113-2.943.221-5.993-1.813-7.454C20.84 2.407 19.665 2 18.38 2z\"></path><path class=\"favorite-actionable-outline outline\" d=\"M13.012 4.766l-.771.636.771.937.772-.937zm-8.69-1.74l.584.813zM2.508 10.48l-.928.373zm10.36 10.452l-.596.803zm.287 0l-.594-.804-.006.004zm10.36-10.452l-.935-.353zm-1.813-7.454l.584-.812zM18.38 1c-2.061 0-4.3.898-6.138 3.13l1.543 1.272C15.257 3.615 16.937 3 18.38 3zm-4.595 3.13C11.945 1.899 9.707 1 7.644 1v2c1.444 0 3.124.615 4.597 2.402zM7.644 1c-1.49 0-2.87.47-3.905 1.215l1.167 1.623C5.593 3.344 6.563 3 7.644 3zM3.74 2.214C1.294 3.97.255 7.547 1.58 10.853l1.857-.745C2.42 7.572 3.28 5.006 4.906 3.838zM1.58 10.853c.443 1.104 1.298 2.278 2.273 3.394.988 1.132 2.16 2.27 3.304 3.301a75.12 75.12 0 005.115 4.187l1.193-1.605a73.097 73.097 0 01-4.969-4.068c-1.112-1.002-2.22-2.08-3.137-3.13-.93-1.065-1.607-2.036-1.922-2.824zm10.693 10.883c.44.327 1.037.33 1.482-.004l-1.2-1.6a.763.763 0 01.909-.003zm1.477 0a74.823 74.823 0 005.159-4.207c1.151-1.035 2.326-2.175 3.31-3.305.968-1.113 1.815-2.287 2.232-3.39l-1.871-.707c-.289.763-.945 1.721-1.87 2.784-.91 1.046-2.02 2.125-3.138 3.13a72.868 72.868 0 01-5.011 4.087zm10.7-10.902c1.249-3.3.292-6.855-2.164-8.62L21.119 3.84c1.612 1.157 2.439 3.702 1.461 6.288zm-2.164-8.62C21.25 1.471 19.87 1 18.379 1v2c1.081 0 2.051.344 2.74.839z\"></path></svg></svg></div></div><div class=\"HomeCardShareButton homecard-clickable\"><svg class=\"SvgIcon share-forward-icon clickable share-icon\"><svg viewbox=\"0 0 24 24\"><path class=\"share-forward-icon-fill fill\" d=\"M11.986 15.982c-2.023.035-6.72.353-8.908 2.454-.582.558-.927 1.197-1.045 1.94a.736.736 0 01-.731.61H.755A.753.753 0 010 20.214c.144-3.693 1.336-6.637 3.549-8.76C6.412 8.71 10.18 8.127 11.986 8.01V3.452a.25.25 0 01.403-.197l10.971 8.533a.25.25 0 010 .395l-10.97 8.534a.25.25 0 01-.405-.197v-4.538z\" opacity=\".5\"></path><path class=\"share-forward-icon-outline outline\" d=\"M12.382 13.99c.374 0 .609.01.66.011l.958.04v2.914L20.37 12 14 7.044v2.994L12.96 10c-.044 0-4.833-.146-8.024 2.925-.921.886-1.627 1.962-2.116 3.216 3.072-1.959 7.82-2.15 9.562-2.15M12 15.996c-2.023.035-6.72.353-8.908 2.454-.582.558-.927 1.197-1.045 1.94a.736.736 0 01-.731.61H.769a.753.753 0 01-.754-.772c.144-3.693 1.336-6.637 3.549-8.759C6.426 8.723 10.196 8.14 12 8.024V3.466a.25.25 0 01.404-.197l10.97 8.533a.25.25 0 010 .395l-10.97 8.534a.25.25 0 01-.404-.197v-4.538z\"></path></svg></svg></div><div class=\"HomeStatsV2 font-size-small\"><div class=\"stats\">2 Beds</div><div class=\"stats\">1.5 Baths</div><div class=\"stats\">500 Sq. Ft.</div></div><div class=\"homeAddressV2\"><div class=\"addressDisplay font-size-smaller\" data-rf-test-id=\"abp-homeinfo-homeaddress\"><span class=\"collapsedAddress primaryLine\" data-rf-test-id=\"abp-streetLine\">28560 Lilac Rd, Valley Center, CA 92082</span></div></div><div><div class=\"PropertyTypeDisplay font-size-smaller padding-top-small\"><svg class=\"SvgIcon house\"><svg viewbox=\"0 0 24 24\"><path clip-rule=\"evenodd\" d=\"M20 14h-1.75a.25.25 0 00-.25.25v1.5c0 .138.112.25.25.25H20v2h-2.75a.25.25 0 00-.25.25v1.5c0 .138.112.25.25.25H20v2h-5v-7.75a.25.25 0 00-.25-.25h-5.5a.25.25 0 00-.25.25V22H4v-2h1.75a.25.25 0 00.25-.25v-1.5a.25.25 0 00-.25-.25H4v-2h2.75a.25.25 0 00.25-.25v-1.5a.25.25 0 00-.25-.25H4V9.837l8-6.545 8 6.545V14zm-9 2h2v6h-2v-6zm7-13h2v4.254l-2-1.637V3zm6 7h-.643L22 8.89V1.25a.25.25 0 00-.25-.25h-5.5a.25.25 0 00-.25.25v2.731L12.158.838a.247.247 0 00-.316 0L.643 10H0v1.75c0 .138.112.25.25.25H2v11.75c0 .138.112.25.25.25h19.5a.25.25 0 00.25-.25V12h1.75a.25.25 0 00.25-.25V10z\" fill-rule=\"evenodd\"></path></svg></svg><span> <!-- -->House</span></div><div class=\"RentalCTAContact\"><button class=\"button Button text unpadded large-phone-cta\" role=\"button\" tabindex=\"0\" type=\"button\"><span>Request a tour</span></button><a class=\"large-phone-cta\" href=\"tel:6193168413\">(619) 316-8413</a></div></div><script type=\"application/ld+json\">[{\"@context\":\"http://schema.org\",\"name\":\"28560 Lilac Rd, Valley Center, CA 92082\",\"url\":\"/CA/Valley-Center/28560-Lilac-Rd-92082/home/3535464\",\"address\":{\"@type\":\"PostalAddress\",\"streetAddress\":\"28560 Lilac Rd\",\"addressLocality\":\"Valley Center\",\"addressRegion\":\"CA\",\"postalCode\":\"92082\",\"addressCountry\":1},\"numberOfRooms\":\"2\",\"floorSize\":{\"@type\":\"QuantitativeValue\",\"value\":\"500\",\"unitCode\":\"FTK\"},\"@type\":\"SingleFamilyResidence\"},{\"@context\":\"http://schema.org\",\"@type\":\"Product\",\"name\":\"28560 Lilac Rd, Valley Center, CA 92082\",\"offers\":{\"@type\":\"Offer\",\"price\":\"1800\",\"priceCurrency\":\"USD\"},\"url\":\"/CA/Valley-Center/28560-Lilac-Rd-92082/home/3535464\"}]</script><a href=\"/CA/Valley-Center/28560-Lilac-Rd-92082/home/3535464\" target=\"_blank\" title=\"28560 Lilac Rd, Valley Center, CA 92082\"><div class=\"link-and-anchor bottom-button\">28560 Lilac Rd, Valley Center, CA 92082</div></a></div></div></div></div>\n",
      "<div class=\"HomeCardContainer defaultSplitMapListView DisplayAdPlacement isRentals contactRentalsSearchPage\"><div class=\"MapHomeCardReact HomeCard RentalHomeCard\"><div class=\"v2 interactive\"><div class=\"PlaywireAdsWrapper desktop\"><div class=\"loadingIndicatorWrapper\"><div class=\"LoadingIndicator flex align-center justify-center text-center LoadingIndicator--small\"><div class=\"indicatorSvg\"><svg class=\"SvgIcon spinner\"><svg viewbox=\"8 -8 40 40\"><path class=\"spinner-background background\" d=\"M28-7c10.5 0 19 8.5 19 19s-8.5 19-19 19S9 22.5 9 12 17.5-7 28-7zm0 4c-8.3 0-15 6.7-15 15s6.7 15 15 15 15-6.7 15-15S36.3-3 28-3z\"></path><path class=\"spinner-fill fill\" d=\"M38.6 22.6C35.9 25.3 32.1 27 28 27c-8.3 0-15-6.7-15-15S19.7-3 28-3v-4C17.5-7 9 1.5 9 12s8.5 19 19 19c5.2 0 10-2.1 13.4-5.6l-2.8-2.8z\"></path></svg></svg></div><p class=\"indicatorText\" role=\"status\">Loading...</p></div></div><div class=\"PlaywireAd map regularAd\" id=\"db-playwire-map-first-ad\"></div><div class=\"adPills\"></div></div></div></div></div>\n"
     ]
    },
    {
     "ename": "AttributeError",
     "evalue": "'NoneType' object has no attribute 'find_all'",
     "output_type": "error",
     "traceback": [
      "\u001b[1;31m---------------------------------------------------------------------------\u001b[0m",
      "\u001b[1;31mAttributeError\u001b[0m                            Traceback (most recent call last)",
      "\u001b[1;32m<ipython-input-16-04289eee2bc9>\u001b[0m in \u001b[0;36m<module>\u001b[1;34m\u001b[0m\n\u001b[0;32m     40\u001b[0m \u001b[1;33m\u001b[0m\u001b[0m\n\u001b[0;32m     41\u001b[0m \u001b[1;31m# Calculate the average rent price for each number of beds and baths\u001b[0m\u001b[1;33m\u001b[0m\u001b[1;33m\u001b[0m\u001b[0m\n\u001b[1;32m---> 42\u001b[1;33m \u001b[0maverage_rent_prices\u001b[0m \u001b[1;33m=\u001b[0m \u001b[0mcalculate_average_rent\u001b[0m\u001b[1;33m(\u001b[0m\u001b[0mzip_code\u001b[0m\u001b[1;33m)\u001b[0m\u001b[1;33m\u001b[0m\u001b[1;33m\u001b[0m\u001b[0m\n\u001b[0m\u001b[0;32m     43\u001b[0m \u001b[1;33m\u001b[0m\u001b[0m\n\u001b[0;32m     44\u001b[0m \u001b[1;31m# Print the results\u001b[0m\u001b[1;33m\u001b[0m\u001b[1;33m\u001b[0m\u001b[0m\n",
      "\u001b[1;32m<ipython-input-16-04289eee2bc9>\u001b[0m in \u001b[0;36mcalculate_average_rent\u001b[1;34m(zip_code)\u001b[0m\n\u001b[0;32m     27\u001b[0m \u001b[1;33m\u001b[0m\u001b[0m\n\u001b[0;32m     28\u001b[0m     \u001b[1;32mfor\u001b[0m \u001b[0mrental\u001b[0m \u001b[1;32min\u001b[0m \u001b[0mrentals\u001b[0m\u001b[1;33m:\u001b[0m\u001b[1;33m\u001b[0m\u001b[1;33m\u001b[0m\u001b[0m\n\u001b[1;32m---> 29\u001b[1;33m         \u001b[0mbeds\u001b[0m\u001b[1;33m,\u001b[0m \u001b[0mbaths\u001b[0m\u001b[1;33m,\u001b[0m \u001b[0mprice\u001b[0m \u001b[1;33m=\u001b[0m \u001b[0mextract_rental_info\u001b[0m\u001b[1;33m(\u001b[0m\u001b[0mrental\u001b[0m\u001b[1;33m)\u001b[0m\u001b[1;33m\u001b[0m\u001b[1;33m\u001b[0m\u001b[0m\n\u001b[0m\u001b[0;32m     30\u001b[0m         \u001b[0mbed_bath_prices\u001b[0m\u001b[1;33m[\u001b[0m\u001b[1;33m(\u001b[0m\u001b[0mbeds\u001b[0m\u001b[1;33m,\u001b[0m \u001b[0mbaths\u001b[0m\u001b[1;33m)\u001b[0m\u001b[1;33m]\u001b[0m\u001b[1;33m.\u001b[0m\u001b[0mappend\u001b[0m\u001b[1;33m(\u001b[0m\u001b[0mprice\u001b[0m\u001b[1;33m)\u001b[0m\u001b[1;33m\u001b[0m\u001b[1;33m\u001b[0m\u001b[0m\n\u001b[0;32m     31\u001b[0m \u001b[1;33m\u001b[0m\u001b[0m\n",
      "\u001b[1;32m<ipython-input-16-04289eee2bc9>\u001b[0m in \u001b[0;36mextract_rental_info\u001b[1;34m(listing)\u001b[0m\n\u001b[0;32m     14\u001b[0m \u001b[1;32mdef\u001b[0m \u001b[0mextract_rental_info\u001b[0m\u001b[1;33m(\u001b[0m\u001b[0mlisting\u001b[0m\u001b[1;33m)\u001b[0m\u001b[1;33m:\u001b[0m\u001b[1;33m\u001b[0m\u001b[1;33m\u001b[0m\u001b[0m\n\u001b[0;32m     15\u001b[0m     \u001b[0mprint\u001b[0m\u001b[1;33m(\u001b[0m\u001b[0mlisting\u001b[0m\u001b[1;33m)\u001b[0m\u001b[1;33m\u001b[0m\u001b[1;33m\u001b[0m\u001b[0m\n\u001b[1;32m---> 16\u001b[1;33m     \u001b[0mbeds\u001b[0m \u001b[1;33m=\u001b[0m \u001b[0mlisting\u001b[0m\u001b[1;33m.\u001b[0m\u001b[0mfind\u001b[0m\u001b[1;33m(\u001b[0m\u001b[1;34m'div'\u001b[0m\u001b[1;33m,\u001b[0m \u001b[0mclass_\u001b[0m\u001b[1;33m=\u001b[0m\u001b[1;34m'HomeStatsV2'\u001b[0m\u001b[1;33m)\u001b[0m\u001b[1;33m.\u001b[0m\u001b[0mfind_all\u001b[0m\u001b[1;33m(\u001b[0m\u001b[1;34m'div'\u001b[0m\u001b[1;33m)\u001b[0m\u001b[1;33m[\u001b[0m\u001b[1;36m0\u001b[0m\u001b[1;33m]\u001b[0m\u001b[1;33m.\u001b[0m\u001b[0mtext\u001b[0m\u001b[1;33m.\u001b[0m\u001b[0mstrip\u001b[0m\u001b[1;33m(\u001b[0m\u001b[1;33m)\u001b[0m\u001b[1;33m\u001b[0m\u001b[1;33m\u001b[0m\u001b[0m\n\u001b[0m\u001b[0;32m     17\u001b[0m     \u001b[0mbaths\u001b[0m \u001b[1;33m=\u001b[0m \u001b[0mlisting\u001b[0m\u001b[1;33m.\u001b[0m\u001b[0mfind\u001b[0m\u001b[1;33m(\u001b[0m\u001b[1;34m'div'\u001b[0m\u001b[1;33m,\u001b[0m \u001b[0mclass_\u001b[0m\u001b[1;33m=\u001b[0m\u001b[1;34m'HomeStatsV2'\u001b[0m\u001b[1;33m)\u001b[0m\u001b[1;33m.\u001b[0m\u001b[0mfind_all\u001b[0m\u001b[1;33m(\u001b[0m\u001b[1;34m'div'\u001b[0m\u001b[1;33m)\u001b[0m\u001b[1;33m[\u001b[0m\u001b[1;36m1\u001b[0m\u001b[1;33m]\u001b[0m\u001b[1;33m.\u001b[0m\u001b[0mtext\u001b[0m\u001b[1;33m.\u001b[0m\u001b[0mstrip\u001b[0m\u001b[1;33m(\u001b[0m\u001b[1;33m)\u001b[0m\u001b[1;33m\u001b[0m\u001b[1;33m\u001b[0m\u001b[0m\n\u001b[0;32m     18\u001b[0m     \u001b[1;31m#print(listing.find('div', class_='homecardV2Price').text)\u001b[0m\u001b[1;33m\u001b[0m\u001b[1;33m\u001b[0m\u001b[0m\n",
      "\u001b[1;31mAttributeError\u001b[0m: 'NoneType' object has no attribute 'find_all'"
     ]
    }
   ],
   "source": [
    "import requests\n",
    "from bs4 import BeautifulSoup\n",
    "from collections import defaultdict\n",
    "\n",
    "# Function to scrape Redfin rental listings for a given zip code\n",
    "def scrape_redfin_rentals(zip_code):\n",
    "    base_url = f\"https://www.redfin.com/zipcode/{zip_code}/apartments-for-rent\"\n",
    "    headers = {'User-Agent': 'Mozilla/5.0 (Windows NT 10.0; Win64; x64) AppleWebKit/537.36 (KHTML, like Gecko) Chrome/58.0.3029.110 Safari/537.3'}\n",
    "    response = requests.get(base_url, headers=headers)\n",
    "    soup = BeautifulSoup(response.content, 'html.parser')\n",
    "    return soup.find_all('div', class_='HomeCardContainer')\n",
    "\n",
    "# Function to extract the number of beds and baths, and rent price from a rental listing\n",
    "def extract_rental_info(listing):\n",
    "    print(listing)\n",
    "    beds = listing.find('div', class_='HomeStatsV2').find_all('div')[0].text.strip()\n",
    "    baths = listing.find('div', class_='HomeStatsV2').find_all('div')[1].text.strip()\n",
    "    #print(listing.find('div', class_='homecardV2Price').text)\n",
    "    #price = listing.find('div', class_='homecardV2Price').text.strip().replace('$', '').replace(',', '')\n",
    "    price = listing.find_all('span', {'class' : 'homecardV2Price'})[0].text.strip().replace('$', '').replace(',', '').replace('/mo', '')\n",
    "    return beds, baths, int(price)\n",
    "\n",
    "# Function to calculate the average rent price for each number of beds and baths\n",
    "def calculate_average_rent(zip_code):\n",
    "    rentals = scrape_redfin_rentals(zip_code)\n",
    "    bed_bath_prices = defaultdict(list)\n",
    "\n",
    "    for rental in rentals:\n",
    "        beds, baths, price = extract_rental_info(rental)\n",
    "        bed_bath_prices[(beds, baths)].append(price)\n",
    "\n",
    "    average_rent = {}\n",
    "    for key, value in bed_bath_prices.items():\n",
    "        average_rent[key] = sum(value) / len(value)\n",
    "\n",
    "    return average_rent\n",
    "\n",
    "# Specify the zip code you want to scrape\n",
    "zip_code = '92082'\n",
    "\n",
    "# Calculate the average rent price for each number of beds and baths\n",
    "average_rent_prices = calculate_average_rent(zip_code)\n",
    "\n",
    "# Print the results\n",
    "for key, value in average_rent_prices.items():\n",
    "    beds, baths = keys\n",
    "    print(f\"Average rent for {beds} beds, {baths} baths: ${value:.2f}\")\n"
   ]
  },
  {
   "cell_type": "code",
   "execution_count": 10,
   "metadata": {},
   "outputs": [
    {
     "name": "stdout",
     "output_type": "stream",
     "text": [
      "<div class=\"HomeCardContainer selectedHomeCard defaultSplitMapListView isRentals\" data-rf-test-id=\"react-data-photo-row-0\" id=\"MapHomeCard_0\"><div class=\"MapHomeCardReact HomeCard\" data-rf-paint-id=\"map\" data-rf-test-name=\"mapHomeCard\"><div class=\"v2 interactive\" tabindex=\"0\"><div class=\"homecardv2\" data-rf-test-name=\"basicNode-homeCard\"><div class=\"cover-all\"><div class=\"PhotoSlider photoContainer\"><div class=\"scrollable\" style=\"transform:translateX(0px)\"><div class=\"slider-item invisible\" data-rf-test-id=\"slider-item--1\" style=\"transform:translateX(0px)\"><div class=\"remarks-container\" role=\"button\"><div class=\"lazyload-placeholder\" style=\"height:100%\"></div><div class=\"remarks withTitle\"><p>92082 House for Rent:</p><p>Short term rental rates start at $599 per night with a 4 day min. Private estate with breathtaking view's. Includes landscape service &amp; all the organic orange's you can eat. Welcome to p</p></div></div></div><a class=\"slider-item\" data-rf-test-id=\"slider-item-0\" data-rf-test-name=\"basic-card-photo\" href=\"/CA/Valley-Center/30415-Bella-Linda-Dr-92082/home/3144951\" style=\"transform:translateX(0px)\" target=\"_blank\"><div class=\"delayRenderedplaceHolderContainer\" style=\"height:100%;width:100%;min-height:100%\"><img alt=\"Placeholder\" class=\"homecard-image placeholder\" data-src=\"https://ssl.cdn-redfin.com/photo/rent/624fe290-3618-4fd6-9bb7-343147962a69/islphoto/genIsl.0_3.jpg\" height=\"100%\" style=\"opacity:0;display:inherit\" width=\"100%\"/></div></a><div class=\"slider-item invisible\" data-rf-test-id=\"slider-item-1\" style=\"transform:translateX(0px)\"><div class=\"delayRenderedplaceHolderContainer\" style=\"height:100%;width:100%;min-height:100%\"><img alt=\"Placeholder\" class=\"homecard-image placeholder\" data-src=\"https://ssl.cdn-redfin.com/photo/rent/624fe290-3618-4fd6-9bb7-343147962a69/islphoto/genIsl.1_3.jpg\" height=\"100%\" style=\"opacity:0;display:inherit\" width=\"100%\"/></div></div></div></div></div><div aria-label=\"previous button\" class=\"left-nav clickable shouldShow\" data-rf-test-name=\"left-nav\" role=\"button\" tabindex=\"0\"><svg class=\"SvgIcon slide-previous\"><svg viewbox=\"0 0 24 24\"><g fill-rule=\"evenodd\"><path d=\"M16.426 23.134L5.074 11.78a.25.25 0 010-.353L16.426.073a.25.25 0 01.355 0l1.06 1.06a.25.25 0 010 .355L7.724 11.603 17.841 21.72a.25.25 0 010 .355l-1.06 1.06a.25.25 0 01-.355 0\"></path></g></svg></svg></div><div aria-label=\"next button\" class=\"right-nav clickable shouldShow\" data-rf-test-name=\"right-nav\" role=\"button\" tabindex=\"0\"><svg class=\"SvgIcon slide-next\"><svg viewbox=\"0 0 24 24\"><g fill-rule=\"evenodd\"><path d=\"M7.134 23.134l-1.06-1.06a.25.25 0 010-.355L16.19 11.603 6.074 1.488a.25.25 0 010-.355l1.06-1.06a.25.25 0 01.354 0L18.84 11.427a.25.25 0 010 .353L7.488 23.134a.25.25 0 01-.354 0\"></path></g></svg></svg></div><div class=\"Pill Pill--default padding-vert-smallest padding-horiz-smaller font-size-smaller font-weight-bold font-color-white media-index no-opacity\">1 / 5</div><div class=\"bottomright\"><div class=\"mlsLogoExtension\"></div></div></div><div class=\"bottomV2\"><span class=\"homecardV2Price\" data-rf-test-name=\"homecard-price\"><span>$9,600<!-- -->/mo</span></span><div class=\"favoriteButtonV2 homecard-clickable\"><div aria-checked=\"false\" aria-label=\"favorite button\" class=\"FavoriteExtension favoriteButtonV2 clickable fav-off\" data-rf-test-id=\"favoriteExtension\" role=\"checkbox\"><svg class=\"SvgIcon favorite-actionable clickable favorite-icon\"><svg viewbox=\"0 0 26 23\"><path class=\"favorite-actionable-fill fill\" d=\"M18.38 2c-1.753 0-3.712.756-5.368 2.766C11.356 2.756 9.397 2 7.644 2c-1.286 0-2.46.407-3.322 1.026C2.287 4.487 1.337 7.56 2.508 10.48c1.517 3.783 9.212 9.6 10.36 10.452a.233.233 0 00.287 0c1.158-.856 8.95-6.72 10.36-10.452 1.113-2.943.221-5.993-1.813-7.454C20.84 2.407 19.665 2 18.38 2z\"></path><path class=\"favorite-actionable-outline outline\" d=\"M13.012 4.766l-.771.636.771.937.772-.937zm-8.69-1.74l.584.813zM2.508 10.48l-.928.373zm10.36 10.452l-.596.803zm.287 0l-.594-.804-.006.004zm10.36-10.452l-.935-.353zm-1.813-7.454l.584-.812zM18.38 1c-2.061 0-4.3.898-6.138 3.13l1.543 1.272C15.257 3.615 16.937 3 18.38 3zm-4.595 3.13C11.945 1.899 9.707 1 7.644 1v2c1.444 0 3.124.615 4.597 2.402zM7.644 1c-1.49 0-2.87.47-3.905 1.215l1.167 1.623C5.593 3.344 6.563 3 7.644 3zM3.74 2.214C1.294 3.97.255 7.547 1.58 10.853l1.857-.745C2.42 7.572 3.28 5.006 4.906 3.838zM1.58 10.853c.443 1.104 1.298 2.278 2.273 3.394.988 1.132 2.16 2.27 3.304 3.301a75.12 75.12 0 005.115 4.187l1.193-1.605a73.097 73.097 0 01-4.969-4.068c-1.112-1.002-2.22-2.08-3.137-3.13-.93-1.065-1.607-2.036-1.922-2.824zm10.693 10.883c.44.327 1.037.33 1.482-.004l-1.2-1.6a.763.763 0 01.909-.003zm1.477 0a74.823 74.823 0 005.159-4.207c1.151-1.035 2.326-2.175 3.31-3.305.968-1.113 1.815-2.287 2.232-3.39l-1.871-.707c-.289.763-.945 1.721-1.87 2.784-.91 1.046-2.02 2.125-3.138 3.13a72.868 72.868 0 01-5.011 4.087zm10.7-10.902c1.249-3.3.292-6.855-2.164-8.62L21.119 3.84c1.612 1.157 2.439 3.702 1.461 6.288zm-2.164-8.62C21.25 1.471 19.87 1 18.379 1v2c1.081 0 2.051.344 2.74.839z\"></path></svg></svg></div></div><div class=\"HomeCardShareButton homecard-clickable\"><svg class=\"SvgIcon share-forward-icon clickable share-icon\"><svg viewbox=\"0 0 24 24\"><path class=\"share-forward-icon-fill fill\" d=\"M11.986 15.982c-2.023.035-6.72.353-8.908 2.454-.582.558-.927 1.197-1.045 1.94a.736.736 0 01-.731.61H.755A.753.753 0 010 20.214c.144-3.693 1.336-6.637 3.549-8.76C6.412 8.71 10.18 8.127 11.986 8.01V3.452a.25.25 0 01.403-.197l10.971 8.533a.25.25 0 010 .395l-10.97 8.534a.25.25 0 01-.405-.197v-4.538z\" opacity=\".5\"></path><path class=\"share-forward-icon-outline outline\" d=\"M12.382 13.99c.374 0 .609.01.66.011l.958.04v2.914L20.37 12 14 7.044v2.994L12.96 10c-.044 0-4.833-.146-8.024 2.925-.921.886-1.627 1.962-2.116 3.216 3.072-1.959 7.82-2.15 9.562-2.15M12 15.996c-2.023.035-6.72.353-8.908 2.454-.582.558-.927 1.197-1.045 1.94a.736.736 0 01-.731.61H.769a.753.753 0 01-.754-.772c.144-3.693 1.336-6.637 3.549-8.759C6.426 8.723 10.196 8.14 12 8.024V3.466a.25.25 0 01.404-.197l10.97 8.533a.25.25 0 010 .395l-10.97 8.534a.25.25 0 01-.404-.197v-4.538z\"></path></svg></svg></div><div class=\"HomeStatsV2 font-size-small\"><div class=\"stats\">3 Beds</div><div class=\"stats\">2.5 Baths</div><div class=\"stats\">2,400 Sq. Ft.</div></div><div class=\"homeAddressV2\"><div class=\"addressDisplay font-size-smaller\" data-rf-test-id=\"abp-homeinfo-homeaddress\"><span class=\"collapsedAddress primaryLine\" data-rf-test-id=\"abp-streetLine\">30415 Bella Linda Dr, Valley Center, CA 92082</span></div></div><div><div class=\"PropertyTypeDisplay font-size-smaller padding-top-small\"><svg class=\"SvgIcon house\"><svg viewbox=\"0 0 24 24\"><path clip-rule=\"evenodd\" d=\"M20 14h-1.75a.25.25 0 00-.25.25v1.5c0 .138.112.25.25.25H20v2h-2.75a.25.25 0 00-.25.25v1.5c0 .138.112.25.25.25H20v2h-5v-7.75a.25.25 0 00-.25-.25h-5.5a.25.25 0 00-.25.25V22H4v-2h1.75a.25.25 0 00.25-.25v-1.5a.25.25 0 00-.25-.25H4v-2h2.75a.25.25 0 00.25-.25v-1.5a.25.25 0 00-.25-.25H4V9.837l8-6.545 8 6.545V14zm-9 2h2v6h-2v-6zm7-13h2v4.254l-2-1.637V3zm6 7h-.643L22 8.89V1.25a.25.25 0 00-.25-.25h-5.5a.25.25 0 00-.25.25v2.731L12.158.838a.247.247 0 00-.316 0L.643 10H0v1.75c0 .138.112.25.25.25H2v11.75c0 .138.112.25.25.25h19.5a.25.25 0 00.25-.25V12h1.75a.25.25 0 00.25-.25V10z\" fill-rule=\"evenodd\"></path></svg></svg><span> <!-- -->House</span></div><div class=\"RentalCTAContact\"><button class=\"button Button text unpadded large-phone-cta\" role=\"button\" tabindex=\"0\" type=\"button\"><span>Request a tour</span></button></div></div><script type=\"application/ld+json\">[{\"@context\":\"http://schema.org\",\"name\":\"30415 Bella Linda Dr, Valley Center, CA 92082\",\"url\":\"/CA/Valley-Center/30415-Bella-Linda-Dr-92082/home/3144951\",\"address\":{\"@type\":\"PostalAddress\",\"streetAddress\":\"30415 Bella Linda Dr\",\"addressLocality\":\"Valley Center\",\"addressRegion\":\"CA\",\"postalCode\":\"92082\",\"addressCountry\":1},\"numberOfRooms\":\"3\",\"floorSize\":{\"@type\":\"QuantitativeValue\",\"value\":\"2,400\",\"unitCode\":\"FTK\"},\"@type\":\"SingleFamilyResidence\"},{\"@context\":\"http://schema.org\",\"@type\":\"Product\",\"name\":\"30415 Bella Linda Dr, Valley Center, CA 92082\",\"offers\":{\"@type\":\"Offer\",\"price\":\"9600\",\"priceCurrency\":\"USD\"},\"url\":\"/CA/Valley-Center/30415-Bella-Linda-Dr-92082/home/3144951\"}]</script><a href=\"/CA/Valley-Center/30415-Bella-Linda-Dr-92082/home/3144951\" target=\"_blank\" title=\"30415 Bella Linda Dr, Valley Center, CA 92082\"><div class=\"link-and-anchor bottom-button\">30415 Bella Linda Dr, Valley Center, CA 92082</div></a></div></div></div></div>\n"
     ]
    },
    {
     "ename": "AttributeError",
     "evalue": "'NoneType' object has no attribute 'text'",
     "output_type": "error",
     "traceback": [
      "\u001b[1;31m---------------------------------------------------------------------------\u001b[0m",
      "\u001b[1;31mAttributeError\u001b[0m                            Traceback (most recent call last)",
      "\u001b[1;32m<ipython-input-10-ebf0d3f2fe9d>\u001b[0m in \u001b[0;36m<module>\u001b[1;34m\u001b[0m\n\u001b[0;32m     11\u001b[0m     \u001b[0mbeds\u001b[0m \u001b[1;33m=\u001b[0m \u001b[0mrental\u001b[0m\u001b[1;33m.\u001b[0m\u001b[0mfind\u001b[0m\u001b[1;33m(\u001b[0m\u001b[1;34m'div'\u001b[0m\u001b[1;33m,\u001b[0m \u001b[0mclass_\u001b[0m\u001b[1;33m=\u001b[0m\u001b[1;34m'HomeStatsV2'\u001b[0m\u001b[1;33m)\u001b[0m\u001b[1;33m.\u001b[0m\u001b[0mfind_all\u001b[0m\u001b[1;33m(\u001b[0m\u001b[1;34m'div'\u001b[0m\u001b[1;33m)\u001b[0m\u001b[1;33m[\u001b[0m\u001b[1;36m0\u001b[0m\u001b[1;33m]\u001b[0m\u001b[1;33m.\u001b[0m\u001b[0mtext\u001b[0m\u001b[1;33m.\u001b[0m\u001b[0mstrip\u001b[0m\u001b[1;33m(\u001b[0m\u001b[1;33m)\u001b[0m\u001b[1;33m\u001b[0m\u001b[1;33m\u001b[0m\u001b[0m\n\u001b[0;32m     12\u001b[0m     \u001b[0mbaths\u001b[0m \u001b[1;33m=\u001b[0m \u001b[0mrental\u001b[0m\u001b[1;33m.\u001b[0m\u001b[0mfind\u001b[0m\u001b[1;33m(\u001b[0m\u001b[1;34m'div'\u001b[0m\u001b[1;33m,\u001b[0m \u001b[0mclass_\u001b[0m\u001b[1;33m=\u001b[0m\u001b[1;34m'HomeStatsV2'\u001b[0m\u001b[1;33m)\u001b[0m\u001b[1;33m.\u001b[0m\u001b[0mfind_all\u001b[0m\u001b[1;33m(\u001b[0m\u001b[1;34m'div'\u001b[0m\u001b[1;33m)\u001b[0m\u001b[1;33m[\u001b[0m\u001b[1;36m1\u001b[0m\u001b[1;33m]\u001b[0m\u001b[1;33m.\u001b[0m\u001b[0mtext\u001b[0m\u001b[1;33m.\u001b[0m\u001b[0mstrip\u001b[0m\u001b[1;33m(\u001b[0m\u001b[1;33m)\u001b[0m\u001b[1;33m\u001b[0m\u001b[1;33m\u001b[0m\u001b[0m\n\u001b[1;32m---> 13\u001b[1;33m     \u001b[0mprint\u001b[0m\u001b[1;33m(\u001b[0m\u001b[0mrental\u001b[0m\u001b[1;33m.\u001b[0m\u001b[0mfind\u001b[0m\u001b[1;33m(\u001b[0m\u001b[1;34m'div'\u001b[0m\u001b[1;33m,\u001b[0m \u001b[0mclass_\u001b[0m\u001b[1;33m=\u001b[0m\u001b[1;34m'homecardV2Price'\u001b[0m\u001b[1;33m)\u001b[0m\u001b[1;33m.\u001b[0m\u001b[0mtext\u001b[0m\u001b[1;33m)\u001b[0m\u001b[1;33m\u001b[0m\u001b[1;33m\u001b[0m\u001b[0m\n\u001b[0m\u001b[0;32m     14\u001b[0m     \u001b[0mprice\u001b[0m \u001b[1;33m=\u001b[0m \u001b[0mrental\u001b[0m\u001b[1;33m.\u001b[0m\u001b[0mfind\u001b[0m\u001b[1;33m(\u001b[0m\u001b[1;34m'div'\u001b[0m\u001b[1;33m,\u001b[0m \u001b[0mclass_\u001b[0m\u001b[1;33m=\u001b[0m\u001b[1;34m'homecardV2Price'\u001b[0m\u001b[1;33m)\u001b[0m\u001b[1;33m.\u001b[0m\u001b[0mtext\u001b[0m\u001b[1;33m.\u001b[0m\u001b[0mstrip\u001b[0m\u001b[1;33m(\u001b[0m\u001b[1;33m)\u001b[0m\u001b[1;33m.\u001b[0m\u001b[0mreplace\u001b[0m\u001b[1;33m(\u001b[0m\u001b[1;34m'$'\u001b[0m\u001b[1;33m,\u001b[0m \u001b[1;34m''\u001b[0m\u001b[1;33m)\u001b[0m\u001b[1;33m.\u001b[0m\u001b[0mreplace\u001b[0m\u001b[1;33m(\u001b[0m\u001b[1;34m','\u001b[0m\u001b[1;33m,\u001b[0m \u001b[1;34m''\u001b[0m\u001b[1;33m)\u001b[0m\u001b[1;33m\u001b[0m\u001b[1;33m\u001b[0m\u001b[0m\n",
      "\u001b[1;31mAttributeError\u001b[0m: 'NoneType' object has no attribute 'text'"
     ]
    }
   ],
   "source": [
    "#test\n",
    "\n",
    "base_url = f\"https://www.redfin.com/zipcode/{zip_code}/apartments-for-rent\"\n",
    "headers = {'User-Agent': 'Mozilla/5.0 (Windows NT 10.0; Win64; x64) AppleWebKit/537.36 (KHTML, like Gecko) Chrome/58.0.3029.110 Safari/537.3'}\n",
    "response = requests.get(base_url, headers=headers)\n",
    "soup = BeautifulSoup(response.content, 'html.parser')\n",
    "rentals = soup.find_all('div', class_='HomeCardContainer')\n",
    "\n",
    "for rental in rentals:\n",
    "    print(rental)\n",
    "    beds = rental.find('div', class_='HomeStatsV2').find_all('div')[0].text.strip()\n",
    "    baths = rental.find('div', class_='HomeStatsV2').find_all('div')[1].text.strip()\n",
    "    print(rental.find('div', class_='homecardV2Price'))\n",
    "    price = rental.find('div', class_='homecardV2Price').text.strip().replace('$', '').replace(',', '')\n"
   ]
  },
  {
   "cell_type": "code",
   "execution_count": 15,
   "metadata": {},
   "outputs": [
    {
     "name": "stdout",
     "output_type": "stream",
     "text": [
      "9600\n"
     ]
    }
   ],
   "source": [
    "print(rental.find_all('span', {'class' : 'homecardV2Price'})[0].text.strip().replace('$', '').replace(',', '').replace('/mo', '')) #find('div', span_='homecardV2Price'))"
   ]
  },
  {
   "cell_type": "code",
   "execution_count": 5,
   "metadata": {},
   "outputs": [
    {
     "ename": "TypeError",
     "evalue": "'NoneType' object is not subscriptable",
     "output_type": "error",
     "traceback": [
      "\u001b[1;31m---------------------------------------------------------------------------\u001b[0m",
      "\u001b[1;31mTypeError\u001b[0m                                 Traceback (most recent call last)",
      "\u001b[1;32m<ipython-input-5-494ac449aa27>\u001b[0m in \u001b[0;36m<module>\u001b[1;34m\u001b[0m\n\u001b[0;32m     45\u001b[0m         \u001b[0mprices\u001b[0m \u001b[1;33m=\u001b[0m \u001b[1;33m{\u001b[0m\u001b[1;33m}\u001b[0m\u001b[1;33m\u001b[0m\u001b[1;33m\u001b[0m\u001b[0m\n\u001b[0;32m     46\u001b[0m         \u001b[1;32mfor\u001b[0m \u001b[0mrental\u001b[0m \u001b[1;32min\u001b[0m \u001b[0mrentals\u001b[0m\u001b[1;33m:\u001b[0m\u001b[1;33m\u001b[0m\u001b[1;33m\u001b[0m\u001b[0m\n\u001b[1;32m---> 47\u001b[1;33m             \u001b[0murl\u001b[0m\u001b[1;33m,\u001b[0m \u001b[0maddress\u001b[0m\u001b[1;33m,\u001b[0m \u001b[0mprice\u001b[0m\u001b[1;33m,\u001b[0m \u001b[0mbeds\u001b[0m\u001b[1;33m,\u001b[0m \u001b[0mbaths\u001b[0m\u001b[1;33m,\u001b[0m \u001b[0msqft\u001b[0m\u001b[1;33m,\u001b[0m \u001b[0mdate\u001b[0m \u001b[1;33m=\u001b[0m \u001b[0mextract_rental_info\u001b[0m\u001b[1;33m(\u001b[0m\u001b[0mrental\u001b[0m\u001b[1;33m)\u001b[0m\u001b[1;33m\u001b[0m\u001b[1;33m\u001b[0m\u001b[0m\n\u001b[0m\u001b[0;32m     48\u001b[0m             rental_data = rental_data.append({\n\u001b[0;32m     49\u001b[0m                 \u001b[1;34m'Zip Code'\u001b[0m\u001b[1;33m:\u001b[0m \u001b[0mzip_code\u001b[0m\u001b[1;33m,\u001b[0m\u001b[1;33m\u001b[0m\u001b[1;33m\u001b[0m\u001b[0m\n",
      "\u001b[1;32m<ipython-input-5-494ac449aa27>\u001b[0m in \u001b[0;36mextract_rental_info\u001b[1;34m(listing)\u001b[0m\n\u001b[0;32m     14\u001b[0m \u001b[1;31m# Function to extract rental information from a listing\u001b[0m\u001b[1;33m\u001b[0m\u001b[1;33m\u001b[0m\u001b[0m\n\u001b[0;32m     15\u001b[0m \u001b[1;32mdef\u001b[0m \u001b[0mextract_rental_info\u001b[0m\u001b[1;33m(\u001b[0m\u001b[0mlisting\u001b[0m\u001b[1;33m)\u001b[0m\u001b[1;33m:\u001b[0m\u001b[1;33m\u001b[0m\u001b[1;33m\u001b[0m\u001b[0m\n\u001b[1;32m---> 16\u001b[1;33m     \u001b[0murl\u001b[0m \u001b[1;33m=\u001b[0m \u001b[0mlisting\u001b[0m\u001b[1;33m.\u001b[0m\u001b[0mfind\u001b[0m\u001b[1;33m(\u001b[0m\u001b[1;34m'a'\u001b[0m\u001b[1;33m,\u001b[0m \u001b[0mclass_\u001b[0m\u001b[1;33m=\u001b[0m\u001b[1;34m'homecardV2'\u001b[0m\u001b[1;33m)\u001b[0m\u001b[1;33m[\u001b[0m\u001b[1;34m'href'\u001b[0m\u001b[1;33m]\u001b[0m\u001b[1;33m\u001b[0m\u001b[1;33m\u001b[0m\u001b[0m\n\u001b[0m\u001b[0;32m     17\u001b[0m     \u001b[0maddress\u001b[0m \u001b[1;33m=\u001b[0m \u001b[0mlisting\u001b[0m\u001b[1;33m.\u001b[0m\u001b[0mfind\u001b[0m\u001b[1;33m(\u001b[0m\u001b[1;34m'span'\u001b[0m\u001b[1;33m,\u001b[0m \u001b[0mclass_\u001b[0m\u001b[1;33m=\u001b[0m\u001b[1;34m'street-address'\u001b[0m\u001b[1;33m)\u001b[0m\u001b[1;33m.\u001b[0m\u001b[0mtext\u001b[0m\u001b[1;33m.\u001b[0m\u001b[0mstrip\u001b[0m\u001b[1;33m(\u001b[0m\u001b[1;33m)\u001b[0m\u001b[1;33m\u001b[0m\u001b[1;33m\u001b[0m\u001b[0m\n\u001b[0;32m     18\u001b[0m     \u001b[0mprice\u001b[0m \u001b[1;33m=\u001b[0m \u001b[0mlisting\u001b[0m\u001b[1;33m.\u001b[0m\u001b[0mfind\u001b[0m\u001b[1;33m(\u001b[0m\u001b[1;34m'span'\u001b[0m\u001b[1;33m,\u001b[0m \u001b[0mclass_\u001b[0m\u001b[1;33m=\u001b[0m\u001b[1;34m'homecardV2Price'\u001b[0m\u001b[1;33m)\u001b[0m\u001b[1;33m.\u001b[0m\u001b[0mtext\u001b[0m\u001b[1;33m.\u001b[0m\u001b[0mstrip\u001b[0m\u001b[1;33m(\u001b[0m\u001b[1;33m)\u001b[0m\u001b[1;33m.\u001b[0m\u001b[0mreplace\u001b[0m\u001b[1;33m(\u001b[0m\u001b[1;34m'$'\u001b[0m\u001b[1;33m,\u001b[0m \u001b[1;34m''\u001b[0m\u001b[1;33m)\u001b[0m\u001b[1;33m.\u001b[0m\u001b[0mreplace\u001b[0m\u001b[1;33m(\u001b[0m\u001b[1;34m','\u001b[0m\u001b[1;33m,\u001b[0m \u001b[1;34m''\u001b[0m\u001b[1;33m)\u001b[0m\u001b[1;33m\u001b[0m\u001b[1;33m\u001b[0m\u001b[0m\n",
      "\u001b[1;31mTypeError\u001b[0m: 'NoneType' object is not subscriptable"
     ]
    }
   ],
   "source": [
    "import requests\n",
    "from bs4 import BeautifulSoup\n",
    "import pandas as pd\n",
    "import datetime\n",
    "\n",
    "# Function to scrape Redfin rental listings for a given zip code\n",
    "def scrape_redfin_rentals(zip_code):\n",
    "    base_url = f\"https://www.redfin.com/zipcode/{zip_code}/apartments-for-rent/filter/property-type=house\"\n",
    "    headers = {'User-Agent': 'Mozilla/5.0 (Windows NT 10.0; Win64; x64) AppleWebKit/537.36 (KHTML, like Gecko) Chrome/58.0.3029.110 Safari/537.3'}\n",
    "    response = requests.get(base_url, headers=headers)\n",
    "    soup = BeautifulSoup(response.content, 'html.parser')\n",
    "    return soup.find_all('div', class_='HomeCardContainer')\n",
    "\n",
    "# Function to extract rental information from a listing\n",
    "def extract_rental_info(listing):\n",
    "    url = listing.find('a', class_='homecardV2')['href']\n",
    "    address = listing.find('span', class_='street-address').text.strip()\n",
    "    price = listing.find('span', class_='homecardV2Price').text.strip().replace('$', '').replace(',', '')\n",
    "    beds = listing.find('span', class_='data-beds').text.strip()\n",
    "    baths = listing.find('span', class_='data-baths').text.strip()\n",
    "    sqft = listing.find('span', class_='data-sqft').text.strip().replace(',', '')\n",
    "    current_date = datetime.date.today().strftime('%Y-%m-%d')\n",
    "    return url, address, int(price), beds, baths, sqft, current_date\n",
    "\n",
    "# Function to calculate average rent prices for each number of beds and baths\n",
    "def calculate_average_rent(prices):\n",
    "    average_rent = {}\n",
    "    for key, value in prices.items():\n",
    "        total_rent = sum(value)\n",
    "        avg_rent = total_rent / len(value)\n",
    "        average_rent[key] = avg_rent\n",
    "    return average_rent\n",
    "\n",
    "# List of all zip codes in the United States\n",
    "#all_zip_codes = range(10001, 99999)  # Modify range as per your requirement\n",
    "all_zip_codes = [92082]\n",
    "\n",
    "# Dataframe to store the rental information\n",
    "rental_data = pd.DataFrame(columns=['Zip Code', 'URL', 'Address', 'Price', 'Beds', 'Baths', 'Sqft', 'Date'])\n",
    "\n",
    "# Iterate through each zip code\n",
    "for zip_code in all_zip_codes:\n",
    "    rentals = scrape_redfin_rentals(zip_code)\n",
    "    if rentals:\n",
    "        prices = {}\n",
    "        for rental in rentals:\n",
    "            url, address, price, beds, baths, sqft, date = extract_rental_info(rental)\n",
    "            rental_data = rental_data.append({\n",
    "                'Zip Code': zip_code,\n",
    "                'URL': url,\n",
    "                'Address': address,\n",
    "                'Price': price,\n",
    "                'Beds': beds,\n",
    "                'Baths': baths,\n",
    "                'Sqft': sqft,\n",
    "                'Date': date\n",
    "            }, ignore_index=True)\n",
    "\n",
    "# Calculate average rent prices for each zip code\n",
    "average_rent_prices = rental_data.groupby(['Zip Code', 'Beds', 'Baths'])['Price'].mean().reset_index()\n",
    "\n",
    "# Export dataframes to CSV for each zip code\n",
    "for zip_code, group in average_rent_prices.groupby('Zip Code'):\n",
    "    filename = f\"rental_data_{zip_code}.csv\"\n",
    "    group.to_csv(filename, index=False)\n",
    "    print(f\"Data for Zip Code {zip_code} exported to {filename}\")\n"
   ]
  },
  {
   "cell_type": "code",
   "execution_count": null,
   "metadata": {},
   "outputs": [],
   "source": []
  }
 ],
 "metadata": {
  "kernelspec": {
   "display_name": "re_analysis",
   "language": "python",
   "name": "python3"
  },
  "language_info": {
   "codemirror_mode": {
    "name": "ipython",
    "version": 3
   },
   "file_extension": ".py",
   "mimetype": "text/x-python",
   "name": "python",
   "nbconvert_exporter": "python",
   "pygments_lexer": "ipython3",
   "version": "3.9.13"
  },
  "orig_nbformat": 4
 },
 "nbformat": 4,
 "nbformat_minor": 2
}
